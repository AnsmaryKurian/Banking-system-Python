{
 "cells": [
  {
   "cell_type": "code",
   "execution_count": 1,
   "id": "eafd8396-384b-4e1f-940e-948337f4e641",
   "metadata": {},
   "outputs": [
    {
     "name": "stdout",
     "output_type": "stream",
     "text": [
      "=== Welcome to ANS Bank ===\n"
     ]
    },
    {
     "name": "stdin",
     "output_type": "stream",
     "text": [
      "Enter your password to login:  password123\n"
     ]
    },
    {
     "name": "stdout",
     "output_type": "stream",
     "text": [
      "Login successful!\n",
      "\n",
      "=== Banking Menu ===\n",
      "1. Deposit Amount\n",
      "2. Withdraw Amount\n",
      "3. Check Balance\n",
      "4. View Transaction History\n",
      "5. Exit\n"
     ]
    },
    {
     "name": "stdin",
     "output_type": "stream",
     "text": [
      "Enter your choice (1-5):  1\n",
      "Enter amount to deposit:  1000\n"
     ]
    },
    {
     "name": "stdout",
     "output_type": "stream",
     "text": [
      "$1000.0 has been deposited to your account.\n",
      "\n",
      "=== Banking Menu ===\n",
      "1. Deposit Amount\n",
      "2. Withdraw Amount\n",
      "3. Check Balance\n",
      "4. View Transaction History\n",
      "5. Exit\n"
     ]
    },
    {
     "name": "stdin",
     "output_type": "stream",
     "text": [
      "Enter your choice (1-5):  2\n",
      "Enter amount to withdraw:  500\n"
     ]
    },
    {
     "name": "stdout",
     "output_type": "stream",
     "text": [
      "$500.0 has been withdrawn from your account.\n",
      "\n",
      "=== Banking Menu ===\n",
      "1. Deposit Amount\n",
      "2. Withdraw Amount\n",
      "3. Check Balance\n",
      "4. View Transaction History\n",
      "5. Exit\n"
     ]
    },
    {
     "name": "stdin",
     "output_type": "stream",
     "text": [
      "Enter your choice (1-5):  3\n"
     ]
    },
    {
     "name": "stdout",
     "output_type": "stream",
     "text": [
      "Your current balance is: $1000.0\n",
      "\n",
      "=== Banking Menu ===\n",
      "1. Deposit Amount\n",
      "2. Withdraw Amount\n",
      "3. Check Balance\n",
      "4. View Transaction History\n",
      "5. Exit\n"
     ]
    },
    {
     "name": "stdin",
     "output_type": "stream",
     "text": [
      "Enter your choice (1-5):  4\n"
     ]
    },
    {
     "name": "stdout",
     "output_type": "stream",
     "text": [
      "Transaction History:\n",
      "Deposited: $1000.0\n",
      "Withdrawn: $500.0\n",
      "\n",
      "=== Banking Menu ===\n",
      "1. Deposit Amount\n",
      "2. Withdraw Amount\n",
      "3. Check Balance\n",
      "4. View Transaction History\n",
      "5. Exit\n"
     ]
    },
    {
     "name": "stdin",
     "output_type": "stream",
     "text": [
      "Enter your choice (1-5):  5\n"
     ]
    },
    {
     "name": "stdout",
     "output_type": "stream",
     "text": [
      "Thank you for using ANS Bank. Have a great day!\n"
     ]
    }
   ],
   "source": [
    "class BankAccount:\n",
    "    def __init__(self, account_number, account_holder, password, balance=0):\n",
    "        \"\"\"Initialize account with account number, holder, password and initial balance.\"\"\"\n",
    "        self.account_number = account_number\n",
    "        self.account_holder = account_holder\n",
    "        self.password = password\n",
    "        self.balance = balance\n",
    "        self.transaction_history = []\n",
    "    \n",
    "    def login(self, password):\n",
    "        \"\"\"Login to the account by validating password.\"\"\"\n",
    "        if self.password == password:\n",
    "            print(\"Login successful!\")\n",
    "            return True\n",
    "        else:\n",
    "            print(\"Invalid password. Please try again.\")\n",
    "            return False\n",
    "\n",
    "    def deposit(self, amount):\n",
    "        \"\"\"Deposit a specified amount into the account.\"\"\"\n",
    "        if amount > 0:\n",
    "            self.balance += amount\n",
    "            self.transaction_history.append(f\"Deposited: ${amount}\")\n",
    "            print(f\"${amount} has been deposited to your account.\")\n",
    "        else:\n",
    "            print(\"Invalid deposit amount.\")\n",
    "    \n",
    "    def withdraw(self, amount):\n",
    "        \"\"\"Withdraw a specified amount from the account.\"\"\"\n",
    "        if amount > 0:\n",
    "            if self.balance >= amount:\n",
    "                self.balance -= amount\n",
    "                self.transaction_history.append(f\"Withdrawn: ${amount}\")\n",
    "                print(f\"${amount} has been withdrawn from your account.\")\n",
    "            else:\n",
    "                print(\"Insufficient balance.\")\n",
    "        else:\n",
    "            print(\"Invalid withdrawal amount.\")\n",
    "\n",
    "    def check_balance(self):\n",
    "        \"\"\"Check the current balance of the account.\"\"\"\n",
    "        print(f\"Your current balance is: ${self.balance}\")\n",
    "    \n",
    "    def view_transaction_history(self):\n",
    "        \"\"\"View all transactions made on the account.\"\"\"\n",
    "        if self.transaction_history:\n",
    "            print(\"Transaction History:\")\n",
    "            for transaction in self.transaction_history:\n",
    "                print(transaction)\n",
    "        else:\n",
    "            print(\"No transactions found.\")\n",
    "\n",
    "# Main program\n",
    "def main():\n",
    "    # Create a sample account\n",
    "    account = BankAccount(account_number=\"987654321\", account_holder=\"Rosemary\", password=\"password123\", balance=500)\n",
    "\n",
    "    # Simulating login process\n",
    "    print(\"=== Welcome to ANS Bank ===\")\n",
    "    login_attempts = 3\n",
    "    while login_attempts > 0:\n",
    "        password = input(\"Enter your password to login: \")\n",
    "        if account.login(password):\n",
    "            break\n",
    "        login_attempts -= 1\n",
    "        if login_attempts == 0:\n",
    "            print(\"Too many failed attempts. Exiting system.\")\n",
    "            return\n",
    "    \n",
    "    # Banking operations menu\n",
    "    while True:\n",
    "        print(\"\\n=== Banking Menu ===\")\n",
    "        print(\"1. Deposit Amount\")\n",
    "        print(\"2. Withdraw Amount\")\n",
    "        print(\"3. Check Balance\")\n",
    "        print(\"4. View Transaction History\")\n",
    "        print(\"5. Exit\")\n",
    "        choice = input(\"Enter your choice (1-5): \")\n",
    "\n",
    "        if choice == '1':\n",
    "            amount = float(input(\"Enter amount to deposit: \"))\n",
    "            account.deposit(amount)\n",
    "        elif choice == '2':\n",
    "            amount = float(input(\"Enter amount to withdraw: \"))\n",
    "            account.withdraw(amount)\n",
    "        elif choice == '3':\n",
    "            account.check_balance()\n",
    "        elif choice == '4':\n",
    "            account.view_transaction_history()\n",
    "        elif choice == '5':\n",
    "            print(\"Thank you for using ANS Bank. Have a great day!\")\n",
    "            break\n",
    "        else:\n",
    "            print(\"Invalid choice. Please try again.\")\n",
    "\n",
    "if __name__ == \"__main__\":\n",
    "    main()\n"
   ]
  },
  {
   "cell_type": "code",
   "execution_count": null,
   "id": "491d5a2d-3d54-4980-b845-d831419e5fe1",
   "metadata": {},
   "outputs": [],
   "source": []
  }
 ],
 "metadata": {
  "kernelspec": {
   "display_name": "Python 3 (ipykernel)",
   "language": "python",
   "name": "python3"
  },
  "language_info": {
   "codemirror_mode": {
    "name": "ipython",
    "version": 3
   },
   "file_extension": ".py",
   "mimetype": "text/x-python",
   "name": "python",
   "nbconvert_exporter": "python",
   "pygments_lexer": "ipython3",
   "version": "3.12.4"
  }
 },
 "nbformat": 4,
 "nbformat_minor": 5
}
